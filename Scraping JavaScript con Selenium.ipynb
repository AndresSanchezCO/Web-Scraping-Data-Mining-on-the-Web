{
 "cells": [
  {
   "cell_type": "code",
   "execution_count": 110,
   "metadata": {},
   "outputs": [],
   "source": [
    "import requests\n",
    "from bs4 import BeautifulSoup"
   ]
  },
  {
   "cell_type": "code",
   "execution_count": 111,
   "metadata": {},
   "outputs": [],
   "source": [
    "url = 'https://www.latamairlines.com/co/es/ofertas-vuelos?origin=BOG&inbound=2023-11-01T17%3A00%3A00.000Z&outbound=2023-08-01T17%3A00%3A00.000Z&destination=MAD&adt=1&chd=0&inf=0&trip=RT&cabin=Economy&redemption=false&sort=RECOMMENDED'"
   ]
  },
  {
   "cell_type": "code",
   "execution_count": 112,
   "metadata": {},
   "outputs": [],
   "source": [
    "r = requests.get(url)"
   ]
  },
  {
   "cell_type": "code",
   "execution_count": 113,
   "metadata": {},
   "outputs": [
    {
     "data": {
      "text/plain": [
       "200"
      ]
     },
     "execution_count": 113,
     "metadata": {},
     "output_type": "execute_result"
    }
   ],
   "source": [
    "r.status_code"
   ]
  },
  {
   "cell_type": "code",
   "execution_count": 114,
   "metadata": {},
   "outputs": [],
   "source": [
    "s = BeautifulSoup(r.text, 'lxml')"
   ]
  },
  {
   "cell_type": "code",
   "execution_count": 115,
   "metadata": {},
   "outputs": [],
   "source": [
    "#print(s.prettify())"
   ]
  },
  {
   "cell_type": "code",
   "execution_count": 116,
   "metadata": {},
   "outputs": [],
   "source": [
    "from selenium import webdriver"
   ]
  },
  {
   "cell_type": "code",
   "execution_count": 117,
   "metadata": {},
   "outputs": [],
   "source": [
    "from selenium import webdriver\n",
    "from selenium.webdriver.chrome.options import Options\n",
    "from selenium.webdriver.chrome.service import Service\n",
    "from webdriver_manager.chrome import ChromeDriverManager\n",
    "\n",
    "\n",
    "options = Options()\n",
    "options.add_argument('--incognito')\n",
    "driver = webdriver.Chrome(service=Service(ChromeDriverManager().install()), options=options)"
   ]
  },
  {
   "cell_type": "code",
   "execution_count": 118,
   "metadata": {},
   "outputs": [],
   "source": [
    "driver.get(url)"
   ]
  },
  {
   "cell_type": "code",
   "execution_count": 123,
   "metadata": {},
   "outputs": [
    {
     "data": {
      "text/plain": [
       "[<selenium.webdriver.remote.webelement.WebElement (session=\"b82f3909cbf60004cb97811a24a5075c\", element=\"21982C0D0F32148920FAB617F1D598F6_element_8\")>,\n",
       " <selenium.webdriver.remote.webelement.WebElement (session=\"b82f3909cbf60004cb97811a24a5075c\", element=\"21982C0D0F32148920FAB617F1D598F6_element_9\")>,\n",
       " <selenium.webdriver.remote.webelement.WebElement (session=\"b82f3909cbf60004cb97811a24a5075c\", element=\"21982C0D0F32148920FAB617F1D598F6_element_10\")>,\n",
       " <selenium.webdriver.remote.webelement.WebElement (session=\"b82f3909cbf60004cb97811a24a5075c\", element=\"21982C0D0F32148920FAB617F1D598F6_element_11\")>,\n",
       " <selenium.webdriver.remote.webelement.WebElement (session=\"b82f3909cbf60004cb97811a24a5075c\", element=\"21982C0D0F32148920FAB617F1D598F6_element_12\")>,\n",
       " <selenium.webdriver.remote.webelement.WebElement (session=\"b82f3909cbf60004cb97811a24a5075c\", element=\"21982C0D0F32148920FAB617F1D598F6_element_13\")>,\n",
       " <selenium.webdriver.remote.webelement.WebElement (session=\"b82f3909cbf60004cb97811a24a5075c\", element=\"21982C0D0F32148920FAB617F1D598F6_element_14\")>,\n",
       " <selenium.webdriver.remote.webelement.WebElement (session=\"b82f3909cbf60004cb97811a24a5075c\", element=\"21982C0D0F32148920FAB617F1D598F6_element_15\")>,\n",
       " <selenium.webdriver.remote.webelement.WebElement (session=\"b82f3909cbf60004cb97811a24a5075c\", element=\"21982C0D0F32148920FAB617F1D598F6_element_16\")>,\n",
       " <selenium.webdriver.remote.webelement.WebElement (session=\"b82f3909cbf60004cb97811a24a5075c\", element=\"21982C0D0F32148920FAB617F1D598F6_element_17\")>]"
      ]
     },
     "execution_count": 123,
     "metadata": {},
     "output_type": "execute_result"
    }
   ],
   "source": [
    "from selenium.webdriver.common.by import By\n",
    "vuelos = driver.find_elements(By.XPATH,\"//li[@class='body-flightsstyle__ListItemAvailableFlights-sc__sc-1p74not-5 ixybDA']\")\n",
    "vuelos"
   ]
  },
  {
   "cell_type": "code",
   "execution_count": 124,
   "metadata": {},
   "outputs": [
    {
     "data": {
      "text/plain": [
       "<selenium.webdriver.remote.webelement.WebElement (session=\"b82f3909cbf60004cb97811a24a5075c\", element=\"21982C0D0F32148920FAB617F1D598F6_element_8\")>"
      ]
     },
     "execution_count": 124,
     "metadata": {},
     "output_type": "execute_result"
    }
   ],
   "source": [
    "vuelo = vuelos[0]\n",
    "vuelo"
   ]
  },
  {
   "cell_type": "code",
   "execution_count": 137,
   "metadata": {},
   "outputs": [
    {
     "name": "stdout",
     "output_type": "stream",
     "text": [
      "6:30 p. m.\n",
      "5:20 p. m.\n",
      "+1\n",
      "15 h 50 min\n"
     ]
    }
   ],
   "source": [
    "span_elements = vuelo.find_elements(By.XPATH,\".//span[@class='card-flightstyle__TextHourFlight-sc__sc-16r5pdw-18 kKmcWo']\")\n",
    "hora_salida = span_elements[0].text\n",
    "print(hora_salida)\n",
    "span_elements2 = vuelo.find_elements(By.XPATH,\".//span[@class='card-flightstyle__TextHourFlight-sc__sc-16r5pdw-18 kKmcWo']\")\n",
    "hora_llegada = span_elements2[1].text\n",
    "print(hora_llegada)\n",
    "span_elements3 = vuelo.find_elements(By.XPATH,\".//span[@class='card-flightstyle__TextTotalTimeFlight-sc__sc-16r5pdw-20 fuxJTD']\")\n",
    "duracion = span_elements3[0].text\n",
    "print(duracion)\n"
   ]
  },
  {
   "cell_type": "code",
   "execution_count": 142,
   "metadata": {},
   "outputs": [
    {
     "data": {
      "text/plain": [
       "<selenium.webdriver.remote.webelement.WebElement (session=\"b82f3909cbf60004cb97811a24a5075c\", element=\"21982C0D0F32148920FAB617F1D598F6_element_69\")>"
      ]
     },
     "execution_count": 142,
     "metadata": {},
     "output_type": "execute_result"
    }
   ],
   "source": [
    "boton_escalas = vuelo.find_element(By.XPATH,\"//a[@id='itinerary-modal-0-dialog-open']\")\n",
    "boton_escalas"
   ]
  },
  {
   "cell_type": "code",
   "execution_count": 143,
   "metadata": {},
   "outputs": [],
   "source": [
    "boton_escalas.click()"
   ]
  },
  {
   "cell_type": "code",
   "execution_count": null,
   "metadata": {},
   "outputs": [],
   "source": [
    "driver.close()"
   ]
  }
 ],
 "metadata": {
  "kernelspec": {
   "display_name": "base",
   "language": "python",
   "name": "python3"
  },
  "language_info": {
   "codemirror_mode": {
    "name": "ipython",
    "version": 3
   },
   "file_extension": ".py",
   "mimetype": "text/x-python",
   "name": "python",
   "nbconvert_exporter": "python",
   "pygments_lexer": "ipython3",
   "version": "3.10.8"
  },
  "orig_nbformat": 4
 },
 "nbformat": 4,
 "nbformat_minor": 2
}
